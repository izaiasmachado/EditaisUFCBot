{
  "nbformat": 4,
  "nbformat_minor": 0,
  "metadata": {
    "colab": {
      "name": "Ordenação por Inserção.ipynb",
      "provenance": [],
      "collapsed_sections": [],
      "authorship_tag": "ABX9TyNQ6kiC2V4B3A6FJ1eP5xmB",
      "include_colab_link": true
    },
    "kernelspec": {
      "name": "python3",
      "display_name": "Python 3"
    }
  },
  "cells": [
    {
      "cell_type": "markdown",
      "metadata": {
        "id": "view-in-github",
        "colab_type": "text"
      },
      "source": [
        "<a href=\"https://colab.research.google.com/github/izaiasmachado/EditaisUFCBot/blob/develop/Ordena%C3%A7%C3%A3o_por_Inser%C3%A7%C3%A3o.ipynb\" target=\"_parent\"><img src=\"https://colab.research.google.com/assets/colab-badge.svg\" alt=\"Open In Colab\"/></a>"
      ]
    },
    {
      "cell_type": "markdown",
      "metadata": {
        "id": "51Gesfnpf9YI"
      },
      "source": [
        "# Ordenação por inserção\n",
        "Queremos ordenar um vetor A[1 ... n] de modo crescente."
      ]
    },
    {
      "cell_type": "code",
      "metadata": {
        "colab": {
          "base_uri": "https://localhost:8080/"
        },
        "id": "CcqtZ3uUfkpU",
        "outputId": "bc4542c3-a085-4699-a1dd-346d3d475137"
      },
      "source": [
        "A = [9, 3, 5, 3, 4, 2, 67, 8, 2, 1]\n",
        "n = len(A)\n",
        "\n",
        "for j in range(1, n):\n",
        "  x = A[j]\n",
        "  i = j - 1\n",
        "\n",
        "  while (i >= 0 and a[i] > x):\n",
        "    A[i + 1] = A[i]\n",
        "    i = i - 1\n",
        "  \n",
        "  A[i + 1] = x\n",
        "\n",
        "\n",
        "print(a)"
      ],
      "execution_count": 81,
      "outputs": [
        {
          "output_type": "stream",
          "text": [
            "[1, 2, 2, 3, 3, 4, 5, 8, 9, 67]\n"
          ],
          "name": "stdout"
        }
      ]
    },
    {
      "cell_type": "code",
      "metadata": {
        "colab": {
          "base_uri": "https://localhost:8080/"
        },
        "id": "tdu7vZ7Fj4_m",
        "outputId": "07e80ae9-3183-438d-e669-3638b1919921"
      },
      "source": [
        "A = [9, 3, 5, 3, 4, 2, 67, 8, 2, 1]\n",
        "\n",
        "def insercao(A, n):\n",
        "  if (n > 0):\n",
        "    insercao(A, n - 1)\n",
        "    x = A[n]\n",
        "    i = n - 1\n",
        "\n",
        "    while (i >= 0 and A[i] > x):\n",
        "      A[i + 1] = A[i]\n",
        "      i = i - 1\n",
        "    \n",
        "    A[i + 1] =x\n",
        "\n",
        "insercao(A, len(A) - 1)\n",
        "print(A)"
      ],
      "execution_count": 80,
      "outputs": [
        {
          "output_type": "stream",
          "text": [
            "[1, 2, 2, 3, 3, 4, 5, 8, 9, 67]\n"
          ],
          "name": "stdout"
        }
      ]
    }
  ]
}